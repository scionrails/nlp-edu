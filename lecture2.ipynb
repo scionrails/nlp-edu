{
  "nbformat": 4,
  "nbformat_minor": 0,
  "metadata": {
    "colab": {
      "name": "lecture2.ipynb",
      "provenance": [],
      "collapsed_sections": []
    },
    "kernelspec": {
      "name": "python3",
      "display_name": "Python 3"
    },
    "language_info": {
      "name": "python"
    }
  },
  "cells": [
    {
      "cell_type": "code",
      "execution_count": null,
      "metadata": {
        "id": "wgzaQqpAO0Us",
        "colab": {
          "base_uri": "https://localhost:8080/"
        },
        "outputId": "b3eee14f-187a-4d17-918d-81e8394cc72b"
      },
      "outputs": [
        {
          "output_type": "stream",
          "name": "stdout",
          "text": [
            "Requirement already satisfied: konlpy in /usr/local/lib/python3.7/dist-packages (0.6.0)\n",
            "Requirement already satisfied: numpy>=1.6 in /usr/local/lib/python3.7/dist-packages (from konlpy) (1.21.6)\n",
            "Requirement already satisfied: JPype1>=0.7.0 in /usr/local/lib/python3.7/dist-packages (from konlpy) (1.4.0)\n",
            "Requirement already satisfied: lxml>=4.1.0 in /usr/local/lib/python3.7/dist-packages (from konlpy) (4.2.6)\n",
            "Requirement already satisfied: typing-extensions in /usr/local/lib/python3.7/dist-packages (from JPype1>=0.7.0->konlpy) (4.2.0)\n",
            "Requirement already satisfied: nltk in /usr/local/lib/python3.7/dist-packages (3.2.5)\n",
            "Requirement already satisfied: six in /usr/local/lib/python3.7/dist-packages (from nltk) (1.15.0)\n",
            "[nltk_data] Downloading package treebank to /root/nltk_data...\n",
            "[nltk_data]   Unzipping corpora/treebank.zip.\n",
            "[nltk_data] Downloading package punkt to /root/nltk_data...\n",
            "[nltk_data]   Unzipping tokenizers/punkt.zip.\n",
            "[nltk_data] Downloading package wordnet to /root/nltk_data...\n",
            "[nltk_data]   Unzipping corpora/wordnet.zip.\n"
          ]
        },
        {
          "output_type": "execute_result",
          "data": {
            "text/plain": [
              "True"
            ]
          },
          "metadata": {},
          "execution_count": 6
        }
      ],
      "source": [
        "!pip install konlpy\n",
        "# !git clone https://github.com/SOMJANG/Mecab-ko-for-Google-Colab.git   ## 형태소 분석기 Mecab 설치\n",
        "# %cd Mecab-ko-for-Google-Colab\n",
        "# !bash install_mecab-ko_on_colab190912.sh"
      ]
    },
    {
      "cell_type": "code",
      "source": [
        "from konlpy.tag import Okt\n",
        "okt = Okt()\n",
        "token = okt.morphs(\"인공지능 공부를 시작합니다. 오늘은 날씨가 맑음\")\n",
        "token = okt.morphs(\"손을 잡아 따라와 맑은 날씨 보름달 가르쳐줘 오늘 밤 가나다라마바사 손을 잡아 따라와 맑은 날씨 보름달 가르쳐줘 \\\n",
        "오늘 밤 가나다라마바사 너무 완벽하지 않아도 걱정 마 네 맘을 조금 알 것 같아 네게 좀 더 다가서 볼까? 고민해 매일 밤 길거리를 걷다 보면 \\\n",
        "계속 계속 네 생각이 나 이런 내 모습이 왜 낯설까 번역기 위에서 헤매는 네 손가락까지 자꾸만 생각이 나는 걸\")\n",
        "print(token)"
      ],
      "metadata": {
        "colab": {
          "base_uri": "https://localhost:8080/"
        },
        "id": "LPBNQ5mf2koQ",
        "outputId": "0f98f9ba-8b84-47a7-d692-d7fa29bc93cd"
      },
      "execution_count": 48,
      "outputs": [
        {
          "output_type": "stream",
          "name": "stdout",
          "text": [
            "['손', '을', '잡아', '따라와', '맑은', '날씨', '보름달', '가르쳐줘', '오늘밤', '가나다', '라마', '바사', '손', '을', '잡아', '따라와', '맑은', '날씨', '보름달', '가르쳐줘', '오늘', '밤', '가나다', '라마', '바사', '너무', '완벽하지', '않아도', '걱정', '마', '네', '맘', '을', '조금', '알', '것', '같아', '네', '게', '좀', '더', '다가서', '볼까', '?', '고민', '해', '매일', '밤', '길거리', '를', '걷다', '보면', '계속', '계속', '네', '생각', '이', '나', '이런', '내', '모습', '이', '왜', '낯설까', '번역기', '위', '에서', '헤매는', '네', '손가락', '까지', '자꾸만', '생각', '이', '나', '는', '걸']\n"
          ]
        }
      ]
    },
    {
      "cell_type": "code",
      "source": [
        "word2index = {}\n",
        "for voca in token:\n",
        "     if voca not in word2index.keys():\n",
        "       word2index[voca] = len(word2index)\n",
        "print(word2index)"
      ],
      "metadata": {
        "colab": {
          "base_uri": "https://localhost:8080/"
        },
        "id": "q5wA-ggP3D7X",
        "outputId": "f0285f4f-8fa0-4411-81b8-47450e97e48c"
      },
      "execution_count": 42,
      "outputs": [
        {
          "output_type": "stream",
          "name": "stdout",
          "text": [
            "{'손': 0, '을': 1, '잡아': 2, '따라와': 3, '맑은': 4, '날씨': 5, '보름달': 6, '가르쳐줘': 7, '오늘': 8, '밤': 9, '가나다': 10, '라마': 11, '바사': 12, '너무': 13, '완벽하지': 14, '않아도': 15, '걱정': 16, '마': 17, '네': 18, '맘': 19, '조금': 20, '알': 21, '것': 22, '같아': 23, '게': 24, '좀': 25, '더': 26, '다가서': 27, '볼까': 28, '?': 29, '고민': 30, '해': 31, '매일': 32, '길거리': 33, '를': 34, '걷다': 35, '보면': 36, '계속': 37, '생각': 38, '이': 39, '나': 40, '이런': 41, '내': 42, '모습': 43, '왜': 44, '낯설까': 45, '번역기': 46, '위': 47, '에서': 48, '헤매는': 49, '손가락': 50, '까지': 51, '자꾸만': 52, '는': 53, '걸': 54}\n"
          ]
        }
      ]
    },
    {
      "cell_type": "code",
      "source": [
        "def one_hot_encoding(word, word2index):\n",
        "       one_hot_vector = [0]*(len(word2index))\n",
        "       index = word2index[word]\n",
        "       one_hot_vector[index] = 1\n",
        "       return one_hot_vector"
      ],
      "metadata": {
        "id": "ulsoRbjL4o9D"
      },
      "execution_count": 43,
      "outputs": []
    },
    {
      "cell_type": "code",
      "source": [
        "one_hot_encoding(\"맘\",word2index)"
      ],
      "metadata": {
        "colab": {
          "base_uri": "https://localhost:8080/"
        },
        "id": "2zTGYxkV4tYt",
        "outputId": "fd854507-65a2-475d-ba6f-10de2c120f5f"
      },
      "execution_count": 46,
      "outputs": [
        {
          "output_type": "execute_result",
          "data": {
            "text/plain": [
              "[0,\n",
              " 0,\n",
              " 0,\n",
              " 0,\n",
              " 0,\n",
              " 0,\n",
              " 0,\n",
              " 0,\n",
              " 0,\n",
              " 0,\n",
              " 0,\n",
              " 0,\n",
              " 0,\n",
              " 0,\n",
              " 0,\n",
              " 0,\n",
              " 0,\n",
              " 0,\n",
              " 0,\n",
              " 1,\n",
              " 0,\n",
              " 0,\n",
              " 0,\n",
              " 0,\n",
              " 0,\n",
              " 0,\n",
              " 0,\n",
              " 0,\n",
              " 0,\n",
              " 0,\n",
              " 0,\n",
              " 0,\n",
              " 0,\n",
              " 0,\n",
              " 0,\n",
              " 0,\n",
              " 0,\n",
              " 0,\n",
              " 0,\n",
              " 0,\n",
              " 0,\n",
              " 0,\n",
              " 0,\n",
              " 0,\n",
              " 0,\n",
              " 0,\n",
              " 0,\n",
              " 0,\n",
              " 0,\n",
              " 0,\n",
              " 0,\n",
              " 0,\n",
              " 0,\n",
              " 0,\n",
              " 0]"
            ]
          },
          "metadata": {},
          "execution_count": 46
        }
      ]
    },
    {
      "cell_type": "code",
      "source": [
        "from google.colab import drive\n",
        "drive.mount('/content/drive')"
      ],
      "metadata": {
        "colab": {
          "base_uri": "https://localhost:8080/"
        },
        "id": "mgsX2DMJ5edG",
        "outputId": "8dae1e1f-651d-48a4-c65e-73b1046105b4"
      },
      "execution_count": null,
      "outputs": [
        {
          "output_type": "stream",
          "name": "stdout",
          "text": [
            "Drive already mounted at /content/drive; to attempt to forcibly remount, call drive.mount(\"/content/drive\", force_remount=True).\n"
          ]
        }
      ]
    },
    {
      "cell_type": "code",
      "source": [
        "!cd drive && cd MyDrive && ls"
      ],
      "metadata": {
        "colab": {
          "base_uri": "https://localhost:8080/"
        },
        "id": "HNTP1pBo6Pls",
        "outputId": "eaccad8c-a5a7-435a-dde7-bf9f67a651ba"
      },
      "execution_count": 9,
      "outputs": [
        {
          "output_type": "stream",
          "name": "stdout",
          "text": [
            "'뉴질랜드 호주사진 0121'  '시스템 프로그래밍 FAQ.gsheet'\n",
            " 20150108_220419_HDR.jpg  '연락처 정보.gform'\n",
            " 20150110_181101_HDR.jpg   정산.gsheet\n",
            " 20150110_181108_HDR.jpg  'Hancom office 2022.zip'\n",
            " 20150110_181611.jpg\t  'MORIN Conference duedate.gsheet'\n",
            "'Colab Notebooks'\t   tutorial.mp4\n",
            " colab_test\t\t   UTokyo-SJTU-KAIST_Symposium_2018_program_final.pdf\n"
          ]
        }
      ]
    },
    {
      "cell_type": "code",
      "source": [
        "import gensim\n",
        "model = gensim.models.KeyedVectors.load_word2vec_format(\n",
        "    'drive/MyDrive/colab_test/GoogleNews-vectors-negative300.bin', binary=True)"
      ],
      "metadata": {
        "id": "B92TIVmH6VIL"
      },
      "execution_count": 2,
      "outputs": []
    },
    {
      "cell_type": "code",
      "source": [
        "count = 0\n",
        "for key, value in model.vocab.items():\n",
        "  print(key, ':', value)\n",
        "  count += 1\n",
        "  if count >0:\n",
        "    break"
      ],
      "metadata": {
        "colab": {
          "base_uri": "https://localhost:8080/"
        },
        "id": "jGyIPSv0RCoc",
        "outputId": "ccb781c8-cbce-47df-e5e9-ae9c0dad73a5"
      },
      "execution_count": 63,
      "outputs": [
        {
          "output_type": "stream",
          "name": "stdout",
          "text": [
            "</s> : Vocab(count:3000000, index:0)\n",
            "in : Vocab(count:2999999, index:1)\n",
            "for : Vocab(count:2999998, index:2)\n",
            "that : Vocab(count:2999997, index:3)\n",
            "is : Vocab(count:2999996, index:4)\n",
            "on : Vocab(count:2999995, index:5)\n",
            "## : Vocab(count:2999994, index:6)\n",
            "The : Vocab(count:2999993, index:7)\n",
            "with : Vocab(count:2999992, index:8)\n",
            "said : Vocab(count:2999991, index:9)\n",
            "was : Vocab(count:2999990, index:10)\n",
            "the : Vocab(count:2999989, index:11)\n",
            "at : Vocab(count:2999988, index:12)\n",
            "not : Vocab(count:2999987, index:13)\n",
            "as : Vocab(count:2999986, index:14)\n",
            "it : Vocab(count:2999985, index:15)\n",
            "be : Vocab(count:2999984, index:16)\n",
            "from : Vocab(count:2999983, index:17)\n",
            "by : Vocab(count:2999982, index:18)\n",
            "are : Vocab(count:2999981, index:19)\n",
            "I : Vocab(count:2999980, index:20)\n",
            "have : Vocab(count:2999979, index:21)\n",
            "he : Vocab(count:2999978, index:22)\n",
            "will : Vocab(count:2999977, index:23)\n",
            "has : Vocab(count:2999976, index:24)\n",
            "#### : Vocab(count:2999975, index:25)\n",
            "his : Vocab(count:2999974, index:26)\n",
            "an : Vocab(count:2999973, index:27)\n",
            "this : Vocab(count:2999972, index:28)\n",
            "or : Vocab(count:2999971, index:29)\n",
            "their : Vocab(count:2999970, index:30)\n"
          ]
        }
      ]
    },
    {
      "cell_type": "code",
      "source": [
        "print(model.most_similar(\"queen\", topn=5))\n",
        "# print(model.wv.most_similar(\"book\"))"
      ],
      "metadata": {
        "colab": {
          "base_uri": "https://localhost:8080/"
        },
        "id": "vwshCijS7eJ5",
        "outputId": "4fb2fe58-8a1f-4154-fb94-279740510702"
      },
      "execution_count": 40,
      "outputs": [
        {
          "output_type": "stream",
          "name": "stdout",
          "text": [
            "[('queens', 0.739944338798523), ('princess', 0.7070531845092773), ('king', 0.6510956883430481), ('monarch', 0.6383601427078247), ('very_pampered_McElhatton', 0.6357026100158691)]\n"
          ]
        }
      ]
    },
    {
      "cell_type": "code",
      "source": [
        "print(model['book'][1:5])\n",
        "print(model['learning'][1:5])\n",
        "print(model.similarity('cat', 'dog'))\n",
        "print(model.similarity('study','banana'))"
      ],
      "metadata": {
        "colab": {
          "base_uri": "https://localhost:8080/"
        },
        "id": "DlIqX__i7wSM",
        "outputId": "350b5bd9-b208-4100-bb4d-4651552799b1"
      },
      "execution_count": 4,
      "outputs": [
        {
          "output_type": "stream",
          "name": "stdout",
          "text": [
            "[-0.02612305 -0.04492188  0.06982422  0.140625  ]\n",
            "[ 0.1484375  -0.06298828  0.11767578  0.10986328]\n",
            "0.76094574\n",
            "-0.023070624\n"
          ]
        }
      ]
    },
    {
      "cell_type": "code",
      "source": [
        "# print(model['book'])\n",
        "# print(model.)\n",
        "print(model.most_similar(positive=['car', 'minivan'], topn=5))\n",
        "print(model.doesnt_match(['fire', 'water', 'land', 'sea', 'air', 'car']))"
      ],
      "metadata": {
        "colab": {
          "base_uri": "https://localhost:8080/"
        },
        "id": "1NEKxGEn8H3h",
        "outputId": "0b5bd475-eac6-4c99-ec98-83a397a0bf43"
      },
      "execution_count": 24,
      "outputs": [
        {
          "output_type": "stream",
          "name": "stdout",
          "text": [
            "[('SUV', 0.853219211101532), ('vehicle', 0.8175784349441528), ('pickup_truck', 0.7763689160346985), ('Jeep', 0.7567334175109863), ('Ford_Explorer', 0.756571888923645)]\n",
            "car\n"
          ]
        },
        {
          "output_type": "stream",
          "name": "stderr",
          "text": [
            "/usr/local/lib/python3.7/dist-packages/gensim/models/keyedvectors.py:895: FutureWarning: arrays to stack must be passed as a \"sequence\" type such as list or tuple. Support for non-sequence iterables such as generators is deprecated as of NumPy 1.16 and will raise an error in the future.\n",
            "  vectors = vstack(self.word_vec(word, use_norm=True) for word in used_words).astype(REAL)\n"
          ]
        }
      ]
    },
    {
      "cell_type": "code",
      "source": [
        "vector = model['Human'] - model['Animal']\n",
        "model.similar_by_vector(vector, topn=10, restrict_vocab=None)"
      ],
      "metadata": {
        "colab": {
          "base_uri": "https://localhost:8080/"
        },
        "id": "XXYCrcgqAKDo",
        "outputId": "7b02c2c5-31bc-4b46-bf9a-29afa24f9d28"
      },
      "execution_count": 35,
      "outputs": [
        {
          "output_type": "execute_result",
          "data": {
            "text/plain": [
              "[('Human', 0.4758436381816864),\n",
              " ('Hina_Shamsi_deputy', 0.2688109278678894),\n",
              " ('human_rights', 0.2610040605068207),\n",
              " ('Constraints', 0.25584954023361206),\n",
              " ('Dr._Jac_Fitz', 0.25409477949142456),\n",
              " ('Van_Woudenberg', 0.24452176690101624),\n",
              " ('Root_Causes', 0.24364538490772247),\n",
              " ('human', 0.2432847023010254),\n",
              " ('constrains', 0.2429574429988861),\n",
              " ('Relevance', 0.24280370771884918)]"
            ]
          },
          "metadata": {},
          "execution_count": 35
        }
      ]
    },
    {
      "cell_type": "code",
      "source": [
        "result = model.similar_by_word(\"cat\")\n",
        "print(result[0])"
      ],
      "metadata": {
        "colab": {
          "base_uri": "https://localhost:8080/"
        },
        "id": "oBMGttl9Czgy",
        "outputId": "4fd8cbe5-3f82-4c80-be8b-b32f4da3e113"
      },
      "execution_count": 39,
      "outputs": [
        {
          "output_type": "stream",
          "name": "stdout",
          "text": [
            "('cats', 0.8099379539489746)\n"
          ]
        }
      ]
    },
    {
      "cell_type": "code",
      "source": [
        "import gensim.downloader as api\n",
        "wv = api.load('word2vec-google-news-300')"
      ],
      "metadata": {
        "colab": {
          "base_uri": "https://localhost:8080/"
        },
        "id": "4SlcXyM-9DdO",
        "outputId": "3d28d164-9053-429b-fd8e-05351971660d"
      },
      "execution_count": null,
      "outputs": [
        {
          "output_type": "stream",
          "name": "stdout",
          "text": [
            "[===================-------------------------------] 39.3% 653.6/1662.8MB downloaded"
          ]
        }
      ]
    },
    {
      "cell_type": "code",
      "source": [
        "vec_king = wv['king']\n",
        "\n",
        "pairs = [\n",
        "    ('car', 'minivan'),   # a minivan is a kind of car\n",
        "    ('car', 'bicycle'),   # still a wheeled vehicle\n",
        "    ('car', 'airplane'),  # ok, no wheels, but still a vehicle\n",
        "    ('car', 'cereal'),    # ... and so on\n",
        "    ('car', 'communism'),\n",
        "]\n",
        "for w1, w2 in pairs:\n",
        "    print('%r\\t%r\\t%.2f' % (w1, w2, wv.similarity(w1, w2)))\n",
        "\n",
        "print(wv.most_similar(positive=['car', 'minivan'], topn=5))\n",
        "print(wv.doesnt_match(['fire', 'water', 'land', 'sea', 'air', 'car']))"
      ],
      "metadata": {
        "id": "Swz2_U8z9Pk4"
      },
      "execution_count": null,
      "outputs": []
    }
  ]
}